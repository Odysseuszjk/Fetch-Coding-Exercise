{
 "cells": [
  {
   "cell_type": "code",
   "execution_count": 3,
   "id": "a535b39f-e19e-438d-9532-f0fc8960c9ce",
   "metadata": {},
   "outputs": [
    {
     "name": "stdout",
     "output_type": "stream",
     "text": [
      "               Column Name  Missing Rate (%)\n",
      "_id                    _id          0.000000\n",
      "active              active          0.000000\n",
      "createdDate    createdDate          0.000000\n",
      "lastLogin        lastLogin         18.867925\n",
      "role                  role          0.000000\n",
      "signUpSource  signUpSource          2.358491\n",
      "state                state          2.830189\n"
     ]
    }
   ],
   "source": [
    "import pandas as pd\n",
    "\n",
    "data = pd.read_csv('users.csv')\n",
    "df = pd.DataFrame(data)\n",
    "missing_rate = df.isnull().mean() * 100\n",
    "\n",
    "missing_info = pd.DataFrame({\n",
    "    'Column Name': df.columns,\n",
    "    'Missing Rate (%)': missing_rate\n",
    "})\n",
    "\n",
    "print(missing_info)"
   ]
  },
  {
   "cell_type": "code",
   "execution_count": 5,
   "id": "e1e7f71b-8db6-4ddc-ab42-26b3ff9b8142",
   "metadata": {},
   "outputs": [
    {
     "name": "stdout",
     "output_type": "stream",
     "text": [
      "               Column Name  Missing Rate (%)\n",
      "_id                    _id          0.000000\n",
      "barcode            barcode          0.000000\n",
      "category          category         13.281919\n",
      "categoryCode  categoryCode         55.698372\n",
      "cpg                    cpg          0.000000\n",
      "name                  name          0.000000\n",
      "topBrand          topBrand         52.442159\n",
      "brandCode        brandCode         23.050557\n"
     ]
    }
   ],
   "source": [
    "data = pd.read_csv('brands.csv')\n",
    "df = pd.DataFrame(data)\n",
    "missing_rate = df.isnull().mean() * 100\n",
    "\n",
    "missing_info = pd.DataFrame({\n",
    "    'Column Name': df.columns,\n",
    "    'Missing Rate (%)': missing_rate\n",
    "})\n",
    "\n",
    "print(missing_info)"
   ]
  },
  {
   "cell_type": "code",
   "execution_count": 9,
   "id": "f4851bb0-4c8c-447b-9eb5-850cbe9800af",
   "metadata": {},
   "outputs": [
    {
     "name": "stdout",
     "output_type": "stream",
     "text": [
      "                                     Column Name  Missing Rate (%)\n",
      "_id                                          _id          0.000000\n",
      "bonusPointsEarned              bonusPointsEarned         51.385165\n",
      "bonusPointsEarnedReason  bonusPointsEarnedReason         51.385165\n",
      "createDate                            createDate          0.000000\n",
      "dateScanned                          dateScanned          0.000000\n",
      "finishedDate                        finishedDate         49.240393\n",
      "modifyDate                            modifyDate          0.000000\n",
      "pointsAwardedDate              pointsAwardedDate         52.010724\n",
      "pointsEarned                        pointsEarned         45.576408\n",
      "purchaseDate                        purchaseDate         40.035746\n",
      "purchasedItemCount            purchasedItemCount         43.252904\n",
      "rewardsReceiptStatus        rewardsReceiptStatus          0.000000\n",
      "totalSpent                            totalSpent         38.873995\n",
      "userId                                    userId          0.089366\n"
     ]
    }
   ],
   "source": [
    "data = pd.read_csv('receipts1.1.csv')\n",
    "df = pd.DataFrame(data)\n",
    "missing_rate = df.isnull().mean() * 100\n",
    "\n",
    "missing_info = pd.DataFrame({\n",
    "    'Column Name': df.columns,\n",
    "    'Missing Rate (%)': missing_rate\n",
    "})\n",
    "\n",
    "print(missing_info)"
   ]
  },
  {
   "cell_type": "code",
   "execution_count": 7,
   "id": "8f8eabcc-83a6-4f21-ac37-da51680b9c13",
   "metadata": {},
   "outputs": [
    {
     "name": "stdout",
     "output_type": "stream",
     "text": [
      "missing rate: 81.94%\n"
     ]
    }
   ],
   "source": [
    "A = pd.read_csv('brands.csv')\n",
    "B = pd.read_csv('receipts.csv')\n",
    "\n",
    "b_words = B.iloc[:, 14:433].values.flatten()\n",
    "b_words = pd.Series(b_words).dropna().unique()\n",
    "\n",
    "a_words = set(A.iloc[:, 7].dropna().unique())\n",
    "\n",
    "missing_words = [word for word in b_words if word not in a_words]\n",
    "missing_count = len(missing_words)\n",
    "\n",
    "total_b_words = len(b_words)\n",
    "missing_rate = missing_count / total_b_words if total_b_words > 0 else 0\n",
    "\n",
    "print(f\"missing rate: {missing_rate:.2%}\")"
   ]
  }
 ],
 "metadata": {
  "kernelspec": {
   "display_name": "Python 3 (ipykernel)",
   "language": "python",
   "name": "python3"
  },
  "language_info": {
   "codemirror_mode": {
    "name": "ipython",
    "version": 3
   },
   "file_extension": ".py",
   "mimetype": "text/x-python",
   "name": "python",
   "nbconvert_exporter": "python",
   "pygments_lexer": "ipython3",
   "version": "3.12.4"
  }
 },
 "nbformat": 4,
 "nbformat_minor": 5
}
