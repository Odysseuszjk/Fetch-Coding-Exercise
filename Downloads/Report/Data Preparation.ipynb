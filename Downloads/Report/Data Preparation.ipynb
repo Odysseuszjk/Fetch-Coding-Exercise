{
 "cells": [
  {
   "cell_type": "code",
   "execution_count": null,
   "id": "0291b8e7-bb6f-4ea6-8602-5edc79736f95",
   "metadata": {},
   "outputs": [],
   "source": [
    "import csv\n",
    "import re\n",
    "\n",
    "# Define a function to check if a string contains only ASCII characters\n",
    "def is_ascii(s):\n",
    "    return all(ord(c) < 128 for c in s)\n",
    "\n",
    "# Open the CSV file\n",
    "with open('brands.csv', newline='', encoding='utf-8') as csvfile:\n",
    "    reader = csv.reader(csvfile)\n",
    "    non_ascii_rows = []\n",
    "\n",
    "    # Iterate through each row in the CSV file\n",
    "    for row_num, row in enumerate(reader, start=1):\n",
    "        # Iterate through each column, checking for non-ASCII characters\n",
    "        for col_num, cell in enumerate(row, start=1):\n",
    "            if not is_ascii(cell):\n",
    "                # If a non-ASCII character is found, record the row and column number\n",
    "                non_ascii_rows.append((row_num, col_num, cell))\n",
    "\n",
    "# Output the result\n",
    "if non_ascii_rows:\n",
    "    print(\"Non-ASCII characters found at the following locations:\")\n",
    "    for row_num, col_num, content in non_ascii_rows:\n",
    "        print(f\"Character found in row {row_num}, column {col_num}: {content}\")\n",
    "else:\n",
    "    print(\"No non-ASCII characters found.\")"
   ]
  },
  {
   "cell_type": "code",
   "execution_count": null,
   "id": "f8b390d9-782d-4482-9dd3-9fc657e0fa71",
   "metadata": {
    "scrolled": true
   },
   "outputs": [],
   "source": [
    "import pandas as pd\n",
    "from datetime import datetime\n",
    "\n",
    "# Define a function to convert ISO 8601 format time to MySQL date format\n",
    "def convert_to_mysql_format(iso_time):\n",
    "    try:\n",
    "        # Use datetime to parse ISO 8601 format and convert to YYYY-MM-DD HH:MM:SS format\n",
    "        mysql_time = datetime.strptime(iso_time, '%Y-%m-%dT%H:%M:%S.%fZ').strftime('%Y-%m-%d %H:%M:%S')\n",
    "        return mysql_time\n",
    "    except ValueError:\n",
    "        # Return the original value if the format is not ISO 8601\n",
    "        return iso_time\n",
    "\n",
    "# Read the CSV file\n",
    "df = pd.read_csv('receipts.csv')\n",
    "\n",
    "# Iterate through each column to check if it contains time format\n",
    "for column in df.columns:\n",
    "    # Assuming time format appears in string columns\n",
    "    if df[column].dtype == 'object':\n",
    "        df[column] = df[column].apply(lambda x: convert_to_mysql_format(x) if isinstance(x, str) else x)\n",
    "\n",
    "# Output the converted data\n",
    "print(df)\n",
    "\n",
    "# You can also write the converted DataFrame to a new CSV file\n",
    "df.to_csv('receipts1.csv', index=False)\n"
   ]
  }
 ],
 "metadata": {
  "kernelspec": {
   "display_name": "Python 3 (ipykernel)",
   "language": "python",
   "name": "python3"
  },
  "language_info": {
   "codemirror_mode": {
    "name": "ipython",
    "version": 3
   },
   "file_extension": ".py",
   "mimetype": "text/x-python",
   "name": "python",
   "nbconvert_exporter": "python",
   "pygments_lexer": "ipython3",
   "version": "3.12.4"
  }
 },
 "nbformat": 4,
 "nbformat_minor": 5
}
